{
 "cells": [
  {
   "cell_type": "markdown",
   "metadata": {},
   "source": [
    "# EJERCICIO 1"
   ]
  },
  {
   "cell_type": "code",
   "execution_count": null,
   "metadata": {
    "collapsed": true
   },
   "outputs": [],
   "source": [
    "def fun(a,b):\n",
    "    a.append('XYZ')\n",
    "    b+=10\n",
    "    \n",
    "L=[1,2,3]\n",
    "x=23\n",
    "\n"
   ]
  },
  {
   "cell_type": "markdown",
   "metadata": {},
   "source": [
    "# EJERCICIO 2"
   ]
  },
  {
   "cell_type": "code",
   "execution_count": null,
   "metadata": {
    "collapsed": true
   },
   "outputs": [],
   "source": [
    "def cambiar_contenido_lista(L):\n",
    "    '''\n",
    "    Modifica el contenido de la lista\n",
    "    '''\n",
    "    print('Recibí ',L)\n",
    "    L.append('four')\n",
    "    print('Entregué ',L)\n",
    "    \n",
    "def cambiar_referencia_lista(L):\n",
    "    \"\"\"\n",
    "    Modificar la referencia de la lista\n",
    "    \"\"\"\n",
    "    print('Recibí ',L)\n",
    "    L=['Reemplazo','de','L']\n",
    "    print('Entregué ',L)\n",
    "    "
   ]
  },
  {
   "cell_type": "markdown",
   "metadata": {},
   "source": [
    "# EJERCICIO 5"
   ]
  },
  {
   "cell_type": "markdown",
   "metadata": {},
   "source": []
  }
 ],
 "metadata": {
  "kernelspec": {
   "display_name": "Python 3",
   "language": "python",
   "name": "python3"
  },
  "language_info": {
   "codemirror_mode": {
    "name": "ipython",
    "version": 3
   },
   "file_extension": ".py",
   "mimetype": "text/x-python",
   "name": "python",
   "nbconvert_exporter": "python",
   "pygments_lexer": "ipython3",
   "version": "3.6.3"
  }
 },
 "nbformat": 4,
 "nbformat_minor": 2
}
